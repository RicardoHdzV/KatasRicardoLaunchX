{
 "cells": [
  {
   "cell_type": "code",
   "execution_count": 4,
   "metadata": {},
   "outputs": [
    {
     "name": "stdout",
     "output_type": "stream",
     "text": [
      "Today's date is: 2022-02-13\n"
     ]
    }
   ],
   "source": [
    "from datetime import date\n",
    "print(\"Today's date is: \" + str(date.today()))"
   ]
  },
  {
   "cell_type": "code",
   "execution_count": 7,
   "metadata": {},
   "outputs": [
    {
     "name": "stdout",
     "output_type": "stream",
     "text": [
      "11 parsec, is 35.877159999999996lightyears\n"
     ]
    }
   ],
   "source": [
    "parsec = 11\n",
    "lightyears = 3.26156 * parsec\n",
    "print(str(parsec) + \" parsec, is \" + str(lightyears) + \" lightyears\")"
   ]
  },
  {
   "cell_type": "markdown",
   "metadata": {},
   "source": [
    "## Kata 3"
   ]
  },
  {
   "cell_type": "code",
   "execution_count": 1,
   "metadata": {},
   "outputs": [
    {
     "name": "stdout",
     "output_type": "stream",
     "text": [
      "Un asteriode se acerca, y viaja a una velidiad de 49 km/s\n"
     ]
    }
   ],
   "source": [
    "asteroide = 48\n",
    "if asteroide> 25:\n",
    "    print(\"Un asteriode se acerca, y viaja a una velidiad de 49 km/s\")\n",
    "else:\n",
    "    print(\"no pasa nada\")"
   ]
  },
  {
   "cell_type": "code",
   "execution_count": 3,
   "metadata": {},
   "outputs": [
    {
     "name": "stdout",
     "output_type": "stream",
     "text": [
      "no se ve nada\n"
     ]
    }
   ],
   "source": [
    "asteroide = 19\n",
    "if asteroide >20:\n",
    "    print(\"Se produce un rayo de luz\")\n",
    "elif asteroide == 20:\n",
    "    print(\"Se produce un rayo de luz\")\n",
    "else:\n",
    "    print(\"no se ve nada\")"
   ]
  },
  {
   "cell_type": "code",
   "execution_count": 6,
   "metadata": {},
   "outputs": [
    {
     "name": "stdout",
     "output_type": "stream",
     "text": [
      "advertencia peligro\n"
     ]
    }
   ],
   "source": [
    "velocidad = 26\n",
    "tamaño = 50\n",
    "if tamaño>25 and velocidad>25:\n",
    "    print(\"advertencia peligro\")\n",
    "elif velocidad >= 20:\n",
    "    print(\"se produce un rayo de luz\")\n",
    "else :\n",
    "    print(\"no pasa nada\")\n",
    "\n"
   ]
  },
  {
   "cell_type": "markdown",
   "metadata": {},
   "source": [
    "## kata 4"
   ]
  },
  {
   "cell_type": "code",
   "execution_count": 15,
   "metadata": {},
   "outputs": [
    {
     "name": "stdout",
     "output_type": "stream",
     "text": [
      " \n",
      "On average, the Moon moves 4cm away from the Earth every year\n"
     ]
    }
   ],
   "source": [
    "text = \"\"\"Interesting facts about the Moon. The Moon is Earth's only satellite. There are several interesting facts about the Moon and how it affects life here on Earth. \n",
    "On average, the Moon moves 4cm away from the Earth every year. This yearly drift is not significant enough to cause immediate effects on Earth.\"\"\"\n",
    "oracion= text.split(\".\")\n",
    "palabra = 'average', 'temperature', 'distance'\n",
    "for texto in oracion:\n",
    "    for palabras in palabra:\n",
    "        if palabras in texto:\n",
    "            print(texto)\n",
    "            break\n"
   ]
  },
  {
   "cell_type": "code",
   "execution_count": null,
   "metadata": {},
   "outputs": [],
   "source": [
    "for text in oracion:\n",
    "    for palabras in palabra:\n",
    "        if palabra in text:\n",
    "            print(texto.replace(\" c\", \" Celsius\"))"
   ]
  },
  {
   "cell_type": "code",
   "execution_count": 36,
   "metadata": {},
   "outputs": [
    {
     "name": "stdout",
     "output_type": "stream",
     "text": [
      "________________________________________\n",
      "Nombre del planeta: Earth\n",
      "gravedad de Moon 1.6199999999999999 m/s2\n",
      "\n",
      "Gravedad de Ganímedes\n",
      ".............................................\n",
      "Nombre del planeta: Marte\n",
      "gravedad de planeta: 1.4300000000000002 m/s2\n"
     ]
    }
   ],
   "source": [
    "name = \"Moon\"\n",
    "gravity = 0.00162\n",
    "planet = \"Earth\"\n",
    "\n",
    "titulo = f'gravedad de {name}'\n",
    "plantilla = f\"\"\"{'_'*40}\n",
    "Nombre del planeta: {planet}\n",
    "gravedad de {name} {gravity*1000} m/s2\"\"\"\n",
    "union = f\"\"\"{titulo.title()}\n",
    "{plantilla}\"\"\"\n",
    "print(plantilla)\n",
    "print()\n",
    "\n",
    "\n",
    "planeta = 'Marte'\n",
    "gravedad = 0.00143\n",
    "nombre = 'Ganímedes'\n",
    "\n",
    "nueva_plantilla = \"\"\"Gravedad de {nombre}\n",
    ".............................................\n",
    "Nombre del planeta: {planeta}\n",
    "gravedad de planeta: {gravedad} m/s2\"\"\"\n",
    "print(nueva_plantilla.format(planeta=planeta, nombre= nombre, gravedad = gravedad*1000))\n",
    "\n"
   ]
  },
  {
   "cell_type": "markdown",
   "metadata": {},
   "source": [
    "## Kata 5"
   ]
  },
  {
   "cell_type": "code",
   "execution_count": 39,
   "metadata": {},
   "outputs": [
    {
     "name": "stdout",
     "output_type": "stream",
     "text": [
      "628949330 \n",
      " 390577533.93\n"
     ]
    }
   ],
   "source": [
    "distancia_Tierra = 149597870\n",
    "distancia_Jupiter = 778547200\n",
    "resta = abs(distancia_Tierra-distancia_Jupiter)\n",
    "millas = resta*0.621\n",
    "print(resta,\"\\n\",millas)"
   ]
  },
  {
   "cell_type": "code",
   "execution_count": 40,
   "metadata": {},
   "outputs": [
    {
     "name": "stdout",
     "output_type": "stream",
     "text": [
      "50300000\n",
      "31236300.0\n"
     ]
    }
   ],
   "source": [
    "planeta_uno = input(\"introduce la distancia del planeta\")\n",
    "planeta_dos = input(\"intruduce la distancia del planeta\")\n",
    "\n",
    "planeta_uno = int(planeta_uno)\n",
    "planeta_dos = int(planeta_dos)\n",
    "\n",
    "distancia = abs(planeta_dos - planeta_uno)\n",
    "print(distancia)\n",
    "\n",
    "distancia_mi= distancia*0.621\n",
    "print(distancia_mi)\n",
    "\n"
   ]
  },
  {
   "cell_type": "markdown",
   "metadata": {},
   "source": [
    "## Kata 6"
   ]
  },
  {
   "cell_type": "code",
   "execution_count": 44,
   "metadata": {},
   "outputs": [
    {
     "name": "stdout",
     "output_type": "stream",
     "text": [
      "Existen  8 planetas\n"
     ]
    }
   ],
   "source": [
    "planets = ['Mercury', 'Venus', 'Earth', 'Mars', 'Jupiter', 'Saturn', 'Uranus', 'Neptune']\n",
    "print('Existen ', len(planets), 'planetas')"
   ]
  },
  {
   "cell_type": "code",
   "execution_count": 45,
   "metadata": {},
   "outputs": [
    {
     "name": "stdout",
     "output_type": "stream",
     "text": [
      "Existen  9  planetas\n"
     ]
    }
   ],
   "source": [
    "planets.append('pluto')\n",
    "print('Existen ', len(planets), ' planetas')"
   ]
  },
  {
   "cell_type": "code",
   "execution_count": 51,
   "metadata": {},
   "outputs": [
    {
     "name": "stdout",
     "output_type": "stream",
     "text": [
      "5\n",
      "Muestra los planetas mar cercanos al sol que  Saturn\n",
      "['Mercury', 'Venus', 'Earth', 'Mars', 'Jupiter']\n",
      "Muestra los planetas mas alejados al sol que  Saturn\n",
      "['Uranus', 'Neptune']\n"
     ]
    }
   ],
   "source": [
    "planets = ['Mercury', 'Venus', 'Earth', 'Mars', 'Jupiter', 'Saturn', 'Uranus', 'Neptune']\n",
    "\n",
    "planeta = input('introduce el nombre del planeta')\n",
    "planeta_index = planets.index(planeta)\n",
    "print(planeta_index)\n",
    "\n",
    "print('Muestra los planetas mar cercanos al sol que ', planeta)\n",
    "print(planets[0:planeta_index])\n",
    "print('Muestra los planetas mas alejados al sol que ', planeta)\n",
    "print(planets[planeta_index+1:])"
   ]
  },
  {
   "cell_type": "markdown",
   "metadata": {},
   "source": [
    "## kata 7"
   ]
  },
  {
   "cell_type": "code",
   "execution_count": 5,
   "metadata": {},
   "outputs": [
    {
     "name": "stdout",
     "output_type": "stream",
     "text": [
      "mercurio\n",
      "venus\n",
      "jupiter\n"
     ]
    }
   ],
   "source": [
    "new_planetas = ''\n",
    "planetas = []\n",
    "\n",
    "while new_planetas.lower() != 'done':\n",
    "    if new_planetas:\n",
    "        planetas.append(new_planetas)\n",
    "    new_planetas = input('ingresa el nombre de los planetas')\n",
    "\n",
    "\n",
    "for planet in planetas:\n",
    "    print(planet)\n"
   ]
  },
  {
   "cell_type": "markdown",
   "metadata": {},
   "source": [
    "## Kata 8"
   ]
  },
  {
   "cell_type": "code",
   "execution_count": 8,
   "metadata": {},
   "outputs": [
    {
     "name": "stdout",
     "output_type": "stream",
     "text": [
      "Mars\n",
      "2\n"
     ]
    }
   ],
   "source": [
    "planet = {\n",
    "    'name' : 'Mars',\n",
    "    'moons' : 2\n",
    "}\n",
    "\n",
    "print(planet.get('name'))\n",
    "print(planet.get('moons'))"
   ]
  },
  {
   "cell_type": "code",
   "execution_count": 16,
   "metadata": {},
   "outputs": [
    {
     "name": "stdout",
     "output_type": "stream",
     "text": [
      "Mars\n",
      "6752\n"
     ]
    }
   ],
   "source": [
    "planet ['polar'] = '6752'\n",
    "planet ['equatorial'] = 6792\n",
    "\n",
    "print(planet['name'])\n",
    "print(planet['polar'])"
   ]
  },
  {
   "cell_type": "code",
   "execution_count": 17,
   "metadata": {},
   "outputs": [
    {
     "name": "stdout",
     "output_type": "stream",
     "text": [
      "17.833333333333332\n"
     ]
    }
   ],
   "source": [
    "planet_moons = {\n",
    "    'mercury': 0,\n",
    "    'venus': 0,\n",
    "    'earth': 1,\n",
    "    'mars': 2,\n",
    "    'jupiter': 79,\n",
    "    'saturn': 82,\n",
    "    'uranus': 27,\n",
    "    'neptune': 14,\n",
    "    'pluto': 5,\n",
    "    'haumea': 2,\n",
    "    'makemake': 1,\n",
    "    'eris': 1\n",
    "}\n",
    "\n",
    "moons = planet_moons.values()\n",
    "\n",
    "planets = len(planet_moons.keys())\n",
    "    \n",
    "total_moons = 0\n",
    "for moon in moons:\n",
    "    total_moons = total_moons + moon\n",
    "average = total_moons / planets\n",
    "print(average)"
   ]
  },
  {
   "cell_type": "markdown",
   "metadata": {},
   "source": [
    "## Kata 9"
   ]
  },
  {
   "cell_type": "code",
   "execution_count": 20,
   "metadata": {},
   "outputs": [
    {
     "name": "stdout",
     "output_type": "stream",
     "text": [
      " Total conbustible: 45.0%\n",
      "    total gasolina: 80%\n",
      "    total disel: 50%\n",
      "    total aceite: 5% \n"
     ]
    }
   ],
   "source": [
    "def tanques_combustible(gasolina, disel, aceite):\n",
    "    promedio = (gasolina + disel + aceite) / 3\n",
    "    return f\"\"\" Total conbustible: {promedio}%\n",
    "    total gasolina: {gasolina}%\n",
    "    total disel: {disel}%\n",
    "    total aceite: {aceite}% \"\"\"\n",
    "print(tanques_combustible(80,50, 5))\n",
    "\n"
   ]
  }
 ],
 "metadata": {
  "interpreter": {
   "hash": "f39aa3c3b9830cc3ef8c8d12ac3f3e59e1be4feb2dd3174fefb7b888b6cfac87"
  },
  "kernelspec": {
   "display_name": "Python 3.10.0 64-bit",
   "language": "python",
   "name": "python3"
  },
  "language_info": {
   "codemirror_mode": {
    "name": "ipython",
    "version": 3
   },
   "file_extension": ".py",
   "mimetype": "text/x-python",
   "name": "python",
   "nbconvert_exporter": "python",
   "pygments_lexer": "ipython3",
   "version": "3.10.0"
  },
  "orig_nbformat": 4
 },
 "nbformat": 4,
 "nbformat_minor": 2
}
